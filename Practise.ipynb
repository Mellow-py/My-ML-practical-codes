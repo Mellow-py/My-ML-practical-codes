{
 "cells": [
  {
   "cell_type": "code",
   "execution_count": 14,
   "metadata": {},
   "outputs": [
    {
     "name": "stdout",
     "output_type": "stream",
     "text": [
      "0.0016883454285976374\n"
     ]
    },
    {
     "data": {
      "image/png": "[encoded data removed]",
      "text/plain": [
       "<Figure size 432x288 with 1 Axes>"
      ]
     },
     "metadata": {},
     "output_type": "display_data"
    }
   ],
   "source": [
    "from statistics import mean\n",
    "import numpy as np\n",
    "import matplotlib.pyplot as plt\n",
    "from matplotlib import style\n",
    "import random\n",
    "\n",
    "style.use(\"fivethirtyeight\")\n",
    "\n",
    "# xs = np.array([1,2,3,4,5,6], dtype = np.float64)\n",
    "# ys = np.array([5,4,6,5,6,7], dtype = np.float64)\n",
    "\n",
    "def create_dataset(hm, variance, step = 2, correlation = False):\n",
    "    val = 1\n",
    "    ys = []\n",
    "    for i in range(hm):\n",
    "        y = val + random.randrange(-variance, variance)\n",
    "        ys.append(y)\n",
    "        if correlation and correlation == \"pos\":\n",
    "            val += step\n",
    "        elif correlation and correlation == \"neg\":\n",
    "            val -= step\n",
    "    xs = [i for i in range(len(ys))]\n",
    "    \n",
    "    return np.array(xs, dtype = np.float64), np.array(ys, dtype = np.float64)\n",
    "\n",
    "def best_fit_slope_and_intercept(xs,ys):\n",
    "    m = ( ((mean(xs)*mean(ys)) - mean(xs*ys)) /\n",
    "        ((mean(xs)*mean(xs)) - mean(xs*xs)) )\n",
    "    b = ( (mean(ys)) - (m*mean(xs))  )\n",
    "    \n",
    "    return m, b\n",
    "\n",
    "def squared_error(ys_orig, ys_line):\n",
    "    return sum((ys_line - ys_orig)**2)\n",
    "\n",
    "def coefficient_of_determination(ys_orig, ys_line):\n",
    "    ys_mean_line = [mean(ys_orig) for y in ys_orig]\n",
    "    squared_error_regr = squared_error(ys_orig, ys_line)\n",
    "    squared_error_y_mean = squared_error(ys_orig, ys_mean_line)\n",
    "    return 1 - (squared_error_regr / squared_error_y_mean)\n",
    "\n",
    "\n",
    "xs, ys = create_dataset(40, 80, 2, \"False\")\n",
    "\n",
    "\n",
    "\n",
    "m,b = best_fit_slope_and_intercept(xs,ys)\n",
    "\n",
    "regression_line = [(m*x)+b for x in xs]\n",
    "\n",
    "predict_x = 8\n",
    "predict_y = (m*predict_x) + b\n",
    "\n",
    "r_squared = coefficient_of_determination(ys, regression_line)\n",
    "print(r_squared)\n",
    "\n",
    "plt.scatter(xs, ys)\n",
    "plt.plot(xs, regression_line)\n",
    "plt.scatter(predict_x, predict_y,s = 100, c = \"g\")\n",
    "plt.show()"
   ]
  },
  {
   "cell_type": "code",
   "execution_count": 13,
   "metadata": {},
   "outputs": [
    {
     "name": "stdout",
     "output_type": "stream",
     "text": [
      "0.5357142857142857\n"
     ]
    }
   ],
   "source": [
    "#    K Nearest Neighbors Application \n",
    "\n",
    "import numpy as np\n",
    "from sklearn import preprocessing, neighbors, svm\n",
    "import pandas as pd\n",
    "from sklearn.model_selection import train_test_split\n",
    "\n",
    "df = pd.read_csv(\"breast-cancer-wisconsin.data\")\n",
    "df.replace(\"?\", -99999, inplace = True)\n",
    "# df.drop([\"id\"], 1, inplace = True)\n",
    "\n",
    "x = np.array(df.drop([\"class\"], 1))\n",
    "y = np.array(df[\"class\"])\n",
    "\n",
    "x_train, x_test, y_train, y_test = train_test_split(x, y, test_size = 0.2)\n",
    "\n",
    "clf = svm.SVC()\n",
    "clf.fit(x_train, y_train)\n",
    "\n",
    "accuracy = clf.score(x_test, y_test)\n",
    "print(accuracy)\n",
    "\n",
    "# example_measures = np.array([[4,2,1,1,1,2,3,2,1], [4,2,1,1,2,2,3,2,1]])\n",
    "# example_measures = example_measures.reshape(2, -1)\n",
    "\n",
    "# prediction = clf.predict(example_measures)\n",
    "# print(prediction)"
   ]
  },
  {
   "cell_type": "code",
   "execution_count": 3,
   "metadata": {},
   "outputs": [
    {
     "name": "stdout",
     "output_type": "stream",
     "text": [
      "0.9660215053763443\n"
     ]
    }
   ],
   "source": [
    "import numpy as np\n",
    "from math import sqrt\n",
    "import warnings\n",
    "from collections import Counter\n",
    "import pandas as pd\n",
    "import random\n",
    "\n",
    "\n",
    "def k_nearest_neighbors(data, predict, k = 3):\n",
    "    if len(data) >= k:\n",
    "        warnings.warn(\"K is set to a value less than total voting groups\")\n",
    "    distances = []\n",
    "    for group in data:\n",
    "        for features in data[group]: \n",
    "            euclidean_distance = np.linalg.norm(np.array(features) - np.array(predict))\n",
    "            distances.append([euclidean_distance, group])\n",
    "            \n",
    "    votes = [i[1] for i in sorted(distances)[:k]]     \n",
    "    vote_result = Counter(votes).most_common(1)[0][0]\n",
    "    confidence = Counter(votes).most_common(1)[0][1] / k\n",
    "    \n",
    "#     print(vote_result, confidence)\n",
    "    \n",
    "    return vote_result, confidence\n",
    "\n",
    "accuracies = []\n",
    "\n",
    "for i in range(25): \n",
    "    df = pd.read_csv(\"breast-cancer-wisconsin.data\")\n",
    "    df.replace(\"?\", -99999, inplace = True)\n",
    "    df.drop([\"id\"], 1, inplace = True)\n",
    "    full_data = df.astype(float).values.tolist()\n",
    "    random.shuffle(full_data)\n",
    "\n",
    "    test_size = 0.4\n",
    "    train_set = {2:[], 4:[]}\n",
    "    test_set = {2:[], 4:[]}\n",
    "    train_data = full_data[:-int(test_size*len(full_data))]\n",
    "    test_data = full_data[-int(test_size*len(full_data)):]\n",
    "\n",
    "    for i in train_data:\n",
    "        train_set[i[-1]].append(i[:-1])\n",
    "\n",
    "    for i in test_data:\n",
    "        test_set[i[-1]].append(i[:-1])\n",
    "\n",
    "    correct = 0\n",
    "    total = 0\n",
    "\n",
    "    for group in test_set:\n",
    "        for data in test_set[group]:\n",
    "            vote, confidence = k_nearest_neighbors(train_set, data, k = 5)\n",
    "            if group == vote:\n",
    "                correct += 1\n",
    "            total += 1 \n",
    "\n",
    "#     print(\"Accuracy:\", correct/total)\n",
    "    accuracies.append(correct/total)\n",
    "    \n",
    "print(sum(accuracies)/len(accuracies))"
   ]
  },
  {
   "cell_type": "code",
   "execution_count": null,
   "metadata": {},
   "outputs": [],
   "source": [
    "# SUPPORT VECTOR MACHINE\n",
    "\n"
   ]
  }
 ],
 "metadata": {
  "kernelspec": {
   "display_name": "Python 3",
   "language": "python",
   "name": "python3"
  },
  "language_info": {
   "codemirror_mode": {
    "name": "ipython",
    "version": 3
   },
   "file_extension": ".py",
   "mimetype": "text/x-python",
   "name": "python",
   "nbconvert_exporter": "python",
   "pygments_lexer": "ipython3",
   "version": "3.7.6"
  }
 },
 "nbformat": 4,
 "nbformat_minor": 4
}
