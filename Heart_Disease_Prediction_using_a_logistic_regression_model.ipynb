{
  "nbformat": 4,
  "nbformat_minor": 0,
  "metadata": {
    "colab": {
      "name": "Heart Disease Prediction - using a logistic regression model.ipynb",
      "private_outputs": true,
      "provenance": [],
      "authorship_tag": "ABX9TyPXgZAjf+XKuZzT0Inr7bUM",
      "include_colab_link": true
    },
    "kernelspec": {
      "name": "python3",
      "display_name": "Python 3"
    },
    "language_info": {
      "name": "python"
    }
  },
  "cells": [
    {
      "cell_type": "markdown",
      "metadata": {
        "id": "view-in-github",
        "colab_type": "text"
      },
      "source": [
        "<a href=\"https://colab.research.google.com/github/Mellow-py/My-ML-practical-codes/blob/master/Heart_Disease_Prediction_using_a_logistic_regression_model.ipynb\" target=\"_parent\"><img src=\"https://colab.research.google.com/assets/colab-badge.svg\" alt=\"Open In Colab\"/></a>"
      ]
    },
    {
      "cell_type": "markdown",
      "source": [
        "Import Libraries"
      ],
      "metadata": {
        "id": "bA-MGEo-f_07"
      }
    },
    {
      "cell_type": "code",
      "source": [
        "import numpy as np\n",
        "import pandas as pd\n",
        "\n",
        "from sklearn.model_selection import train_test_split\n",
        "from sklearn.linear_model import LogisticRegression\n",
        "from sklearn.metrics import accuracy_score"
      ],
      "metadata": {
        "id": "ePfnduurgCLU"
      },
      "execution_count": null,
      "outputs": []
    },
    {
      "cell_type": "markdown",
      "source": [
        "Impoting data"
      ],
      "metadata": {
        "id": "JUHpArr0i9d6"
      }
    },
    {
      "cell_type": "code",
      "source": [
        "data = pd.read_csv('heart.csv')\n",
        "data.head()"
      ],
      "metadata": {
        "id": "tLdoKuFRi8j6"
      },
      "execution_count": null,
      "outputs": []
    },
    {
      "cell_type": "code",
      "source": [
        "data.shape"
      ],
      "metadata": {
        "id": "VrF6C-8LE4-1"
      },
      "execution_count": null,
      "outputs": []
    },
    {
      "cell_type": "code",
      "source": [
        "data.info()"
      ],
      "metadata": {
        "id": "lNeAmS09FER7"
      },
      "execution_count": null,
      "outputs": []
    },
    {
      "cell_type": "code",
      "source": [
        "#Checking for missing values\n",
        "data.isnull().sum() "
      ],
      "metadata": {
        "id": "v6_MLEV9C8Ei"
      },
      "execution_count": null,
      "outputs": []
    },
    {
      "cell_type": "code",
      "source": [
        "data.describe()"
      ],
      "metadata": {
        "id": "Nop8figHDHeH"
      },
      "execution_count": null,
      "outputs": []
    },
    {
      "cell_type": "code",
      "source": [
        "print(\"............where 1 is defective heart disease while 0 is an Healthy heart\")\n",
        "data['target'].value_counts()"
      ],
      "metadata": {
        "id": "Ht5KQF_2DYQu"
      },
      "execution_count": null,
      "outputs": []
    },
    {
      "cell_type": "markdown",
      "source": [
        "Pre processing"
      ],
      "metadata": {
        "id": "LyHt5MjOwK4r"
      }
    },
    {
      "cell_type": "code",
      "source": [
        "X = data.drop(columns='target', axis= 1)\n",
        "y = data['target']"
      ],
      "metadata": {
        "id": "GOFdcd0AjJsi"
      },
      "execution_count": null,
      "outputs": []
    },
    {
      "cell_type": "code",
      "source": [
        "X_train, X_test, y_train, y_test = train_test_split(X, y, test_size= 0.2, stratify=y, random_state=2)"
      ],
      "metadata": {
        "id": "ooOr-DS9FJa3"
      },
      "execution_count": null,
      "outputs": []
    },
    {
      "cell_type": "code",
      "source": [
        "model = LogisticRegression()"
      ],
      "metadata": {
        "id": "mQKPdUpS2FYH"
      },
      "execution_count": null,
      "outputs": []
    },
    {
      "cell_type": "code",
      "source": [
        "model.fit(X_train, y_train)"
      ],
      "metadata": {
        "id": "3yV1w8WU3FYd"
      },
      "execution_count": null,
      "outputs": []
    },
    {
      "cell_type": "code",
      "source": [
        "X_train_prediction = model.predict(X_train)\n",
        "training_data_accuracy = accuracy_score(X_train_prediction, y_train)"
      ],
      "metadata": {
        "id": "sCDr7tGi3PCl"
      },
      "execution_count": null,
      "outputs": []
    },
    {
      "cell_type": "code",
      "source": [
        "print(training_data_accuracy)"
      ],
      "metadata": {
        "id": "z46D1zxu3oJF"
      },
      "execution_count": null,
      "outputs": []
    },
    {
      "cell_type": "code",
      "source": [
        "X_test_prediction = model.predict(X_test)\n",
        "test_data_accuracy = accuracy_score(X_test_prediction, y_test)"
      ],
      "metadata": {
        "id": "FQIISTyz3uet"
      },
      "execution_count": null,
      "outputs": []
    },
    {
      "cell_type": "code",
      "source": [
        "print(test_data_accuracy)"
      ],
      "metadata": {
        "id": "lsN5CDl34uW_"
      },
      "execution_count": null,
      "outputs": []
    },
    {
      "cell_type": "markdown",
      "source": [
        "Buildng and predition system"
      ],
      "metadata": {
        "id": "SgoDUlEd440G"
      }
    },
    {
      "cell_type": "code",
      "source": [
        "input_data = (67,1,0,160,286,0,0,108,1,1.5,1,3,2)\n",
        "data_to_numpy = np.asarray(input_data)"
      ],
      "metadata": {
        "id": "WbS-axV343fY"
      },
      "execution_count": null,
      "outputs": []
    },
    {
      "cell_type": "code",
      "source": [
        "reshape_data = data_to_numpy.reshape(1, -1)"
      ],
      "metadata": {
        "id": "QSUa-8Wf41XC"
      },
      "execution_count": null,
      "outputs": []
    },
    {
      "cell_type": "code",
      "source": [
        "prediction = model.predict(reshape_data)\n",
        "print(prediction)"
      ],
      "metadata": {
        "id": "4c8K2UZG6VMt"
      },
      "execution_count": null,
      "outputs": []
    },
    {
      "cell_type": "code",
      "source": [
        "if (prediction[0] == 0):\n",
        "  print(\"Patient has an healthy heart \")\n",
        "else:\n",
        "  print(\"Patient has a diseased heart\")"
      ],
      "metadata": {
        "id": "WJPY99yP6eJz"
      },
      "execution_count": null,
      "outputs": []
    },
    {
      "cell_type": "code",
      "source": [
        ""
      ],
      "metadata": {
        "id": "R2UKA1NN66RU"
      },
      "execution_count": null,
      "outputs": []
    }
  ]
}